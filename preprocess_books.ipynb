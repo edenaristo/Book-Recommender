{
 "cells": [
  {
   "cell_type": "code",
   "execution_count": 18,
   "metadata": {},
   "outputs": [],
   "source": [
    "import pandas as pd # type: ignore\n",
    "import matplotlib.pyplot as plt #type: ignore\n",
    "import numpy as np\n",
    "\n",
    "#import datasets\n",
    "books = pd.read_csv(\"BX-Books.csv\")\n",
    "new_books = pd.read_csv(\"BX-NewBooks.csv\")\n",
    "series = [books, new_books]\n",
    "\n",
    "#Combine both books and newbooks to be one dataframe\n",
    "df_books = pd.concat(series)"
   ]
  },
  {
   "cell_type": "code",
   "execution_count": 19,
   "metadata": {},
   "outputs": [],
   "source": [
    "# Removing ISBN Duplicates\n",
    "df_books['ISBN'] = df_books['ISBN'].str.strip()  # Remove leading/trailing spaces\n",
    "df_books['ISBN'] = df_books['ISBN'].str.upper()  # Convert to upper case to ensure uniformity\n",
    "df_books = df_books.drop_duplicates(subset='ISBN', keep='first') "
   ]
  },
  {
   "cell_type": "code",
   "execution_count": 24,
   "metadata": {},
   "outputs": [
    {
     "name": "stdout",
     "output_type": "stream",
     "text": [
      "After\n",
      "More than 2024:  0\n",
      "Year is 0:  0\n",
      "NaN entries:  499\n"
     ]
    }
   ],
   "source": [
    "df_books['Year-Of-Publication'] = pd.to_numeric(df_books['Year-Of-Publication'], errors='coerce')\n",
    "\n",
    "# Year must be not bigger than 2024\n",
    "df_books = df_books.drop(df_books[df_books['Year-Of-Publication'] > 2024].index)\n",
    "df_books['Year-Of-Publication'] = df_books['Year-Of-Publication'].replace(0, np.nan) #replace 0 with NaNs\n"
   ]
  },
  {
   "cell_type": "code",
   "execution_count": 25,
   "metadata": {},
   "outputs": [],
   "source": [
    "# Book author must be capitalized, in special case where name start with Mc or Mac, it should be McName or MacName\n",
    "df_books['Book-Author'] = df_books['Book-Author'].apply(lambda name: ' '.join([\n",
    "    'Mc' + part[2:].capitalize() if part.lower().startswith('mc') else\n",
    "    'Mac' + part[3:].capitalize() if part.lower().startswith('mac') and len(part) > 3 else\n",
    "    part.capitalize()\n",
    "    for part in name.split()\n",
    "]))"
   ]
  },
  {
   "cell_type": "code",
   "execution_count": 26,
   "metadata": {},
   "outputs": [
    {
     "name": "stdout",
     "output_type": "stream",
     "text": [
      "27101\n"
     ]
    }
   ],
   "source": [
    "print(len(df_books))"
   ]
  },
  {
   "cell_type": "code",
   "execution_count": 9,
   "metadata": {},
   "outputs": [],
   "source": [
    "   \n",
    "def preprocess_books(books_filename, newbooks_filename):\n",
    "    #Intitialize our datasets\n",
    "    books = pd.read_csv(books_filename)\n",
    "    new_books = pd.read_csv(newbooks_filename)\n",
    "    series = [books, new_books]\n",
    "    \n",
    "    #Combine both books and newbooks to be one dataframe\n",
    "    df_books = pd.concat(series)\n",
    "\n",
    "    # Removing ISBN Duplicates\n",
    "    df_books['ISBN'] = df_books['ISBN'].str.strip()  # Remove leading/trailing spaces\n",
    "    df_books['ISBN'] = df_books['ISBN'].str.upper()  # Convert to upper case to ensure uniformity\n",
    "    df_books = df_books.drop_duplicates(subset='ISBN', keep='first') \n",
    "\n",
    "    df_books['Year-Of-Publication'] = pd.to_numeric(df_books['Year-Of-Publication'], errors='coerce')\n",
    "\n",
    "    # Year must be not bigger than 2024\n",
    "    df_books = df_books.drop(df_books[df_books['Year-Of-Publication'] > 2024].index)\n",
    "    df_books['Year-Of-Publication'] = df_books['Year-Of-Publication'].replace(0, np.nan) #replace 0 with NaNs\n",
    "    \n",
    "    # Book author must be capitalized, in special case where name start with Mc or Mac, it should be McName or MacName\n",
    "    df_books['Book-Author'] = df_books['Book-Author'].apply(lambda name: ' '.join([\n",
    "        'Mc' + part[2:].capitalize() if part.lower().startswith('mc') else\n",
    "        'Mac' + part[3:].capitalize() if part.lower().startswith('mac') and len(part) > 3 else\n",
    "        part.capitalize()\n",
    "        for part in name.split()\n",
    "    ]))\n",
    "\n",
    "    return df_books"
   ]
  }
 ],
 "metadata": {
  "kernelspec": {
   "display_name": "base",
   "language": "python",
   "name": "python3"
  },
  "language_info": {
   "codemirror_mode": {
    "name": "ipython",
    "version": 3
   },
   "file_extension": ".py",
   "mimetype": "text/x-python",
   "name": "python",
   "nbconvert_exporter": "python",
   "pygments_lexer": "ipython3",
   "version": "3.11.9"
  }
 },
 "nbformat": 4,
 "nbformat_minor": 2
}
